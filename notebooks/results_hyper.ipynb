{
 "cells": [
  {
   "cell_type": "code",
   "execution_count": 1,
   "metadata": {},
   "outputs": [
    {
     "name": "stderr",
     "output_type": "stream",
     "text": [
      "2023-11-01 12:12:43.238909: I tensorflow/tsl/cuda/cudart_stub.cc:28] Could not find cuda drivers on your machine, GPU will not be used.\n",
      "2023-11-01 12:12:43.374174: I tensorflow/tsl/cuda/cudart_stub.cc:28] Could not find cuda drivers on your machine, GPU will not be used.\n",
      "2023-11-01 12:12:43.375203: I tensorflow/core/platform/cpu_feature_guard.cc:182] This TensorFlow binary is optimized to use available CPU instructions in performance-critical operations.\n",
      "To enable the following instructions: AVX2 FMA, in other operations, rebuild TensorFlow with the appropriate compiler flags.\n",
      "2023-11-01 12:12:44.608990: W tensorflow/compiler/tf2tensorrt/utils/py_utils.cc:38] TF-TRT Warning: Could not find TensorRT\n"
     ]
    },
    {
     "name": "stdout",
     "output_type": "stream",
     "text": [
      "Using TensorFlow backend\n",
      "Reloading Tuner from ../results/n_filters=5_n_fc=2/tuner0.json\n"
     ]
    }
   ],
   "source": [
    "import numpy as np\n",
    "from cardiac_rythm.hyper_tune import CNNTuner, RandomSearchOptimization\n",
    "\n",
    "rng = np.random.RandomState(0)\n",
    "tuner = RandomSearchOptimization(\n",
    "    rng,\n",
    "    n_folds=10,\n",
    "    hypermodel=CNNTuner(\n",
    "        n_filters=5,\n",
    "        filter_choice=[5, 10, 15, 20, 25, 30, 40, 50],\n",
    "        kernel_choice= [5, 10, 15, 20, 25, 30, 40, 50],\n",
    "        dropout_choice= (0.1, 0.9),\n",
    "        pool_choice=[2],\n",
    "        stride =1,\n",
    "        n_fc=2,\n",
    "        fc_choice=[16, 32, 64, 128],\n",
    "    ),\n",
    "    objective=\"val_loss\", \n",
    "    max_trials=100,\n",
    "    directory=\"../results\",\n",
    "    project_name=\"n_filters=5_n_fc=2\",\n",
    "    overwrite=False,\n",
    ")"
   ]
  },
  {
   "cell_type": "code",
   "execution_count": 2,
   "metadata": {},
   "outputs": [
    {
     "name": "stdout",
     "output_type": "stream",
     "text": [
      "CNNConfig(filters=[40, 50, 50, 40, 20], kernels=[40, 40, 40, 10, 20], strides=[1, 1, 1, 1, 1], pool=[2, 2, 2, 2, 2], padding='valid', fc_end=[16, 16], dropout=0.4)\n",
      "CNNConfig(filters=[50, 40, 30, 40, 20], kernels=[30, 25, 50, 30, 25], strides=[1, 1, 1, 1, 1], pool=[2, 2, 2, 2, 2], padding='valid', fc_end=[128, 64], dropout=0.4)\n",
      "CNNConfig(filters=[30, 50, 20, 5, 50], kernels=[25, 20, 5, 10, 10], strides=[1, 1, 1, 1, 1], pool=[2, 2, 2, 2, 2], padding='valid', fc_end=[64, 32], dropout=0.1)\n",
      "CNNConfig(filters=[50, 15, 15, 30, 50], kernels=[15, 25, 30, 15, 20], strides=[1, 1, 1, 1, 1], pool=[2, 2, 2, 2, 2], padding='valid', fc_end=[64, 128], dropout=0.2)\n",
      "CNNConfig(filters=[40, 40, 10, 40, 10], kernels=[40, 25, 10, 25, 30], strides=[1, 1, 1, 1, 1], pool=[2, 2, 2, 2, 2], padding='valid', fc_end=[64, 32], dropout=0.30000000000000004)\n",
      "CNNConfig(filters=[50, 15, 20, 25, 30], kernels=[10, 15, 20, 20, 15], strides=[1, 1, 1, 1, 1], pool=[2, 2, 2, 2, 2], padding='valid', fc_end=[64, 64], dropout=0.30000000000000004)\n",
      "CNNConfig(filters=[5, 25, 40, 40, 50], kernels=[40, 40, 10, 5, 20], strides=[1, 1, 1, 1, 1], pool=[2, 2, 2, 2, 2], padding='valid', fc_end=[64, 32], dropout=0.30000000000000004)\n",
      "CNNConfig(filters=[40, 5, 15, 10, 40], kernels=[30, 5, 10, 10, 15], strides=[1, 1, 1, 1, 1], pool=[2, 2, 2, 2, 2], padding='valid', fc_end=[128, 16], dropout=0.1)\n",
      "CNNConfig(filters=[30, 50, 10, 10, 20], kernels=[20, 25, 20, 5, 5], strides=[1, 1, 1, 1, 1], pool=[2, 2, 2, 2, 2], padding='valid', fc_end=[64, 128], dropout=0.1)\n",
      "CNNConfig(filters=[10, 40, 50, 40, 50], kernels=[20, 25, 10, 40, 15], strides=[1, 1, 1, 1, 1], pool=[2, 2, 2, 2, 2], padding='valid', fc_end=[32, 64], dropout=0.30000000000000004)\n"
     ]
    }
   ],
   "source": [
    "models = tuner.get_best_models(10)\n",
    "for model in models:\n",
    "    print(model.config)"
   ]
  },
  {
   "cell_type": "code",
   "execution_count": 3,
   "metadata": {},
   "outputs": [
    {
     "name": "stdout",
     "output_type": "stream",
     "text": [
      "{'pool': 2, 'filters0': 40, 'kernels0': 40, 'filters1': 50, 'kernels1': 40, 'filters2': 50, 'kernels2': 40, 'filters3': 40, 'kernels3': 10, 'filters4': 20, 'kernels4': 20, 'fc0': 16, 'fc1': 16, 'dropout': 0.4}\n",
      "{'pool': 2, 'filters0': 50, 'kernels0': 30, 'filters1': 40, 'kernels1': 25, 'filters2': 30, 'kernels2': 50, 'filters3': 40, 'kernels3': 30, 'filters4': 20, 'kernels4': 25, 'fc0': 128, 'fc1': 64, 'dropout': 0.4}\n",
      "{'pool': 2, 'filters0': 30, 'kernels0': 25, 'filters1': 50, 'kernels1': 20, 'filters2': 20, 'kernels2': 5, 'filters3': 5, 'kernels3': 10, 'filters4': 50, 'kernels4': 10, 'fc0': 64, 'fc1': 32, 'dropout': 0.1}\n",
      "{'pool': 2, 'filters0': 50, 'kernels0': 15, 'filters1': 15, 'kernels1': 25, 'filters2': 15, 'kernels2': 30, 'filters3': 30, 'kernels3': 15, 'filters4': 50, 'kernels4': 20, 'fc0': 64, 'fc1': 128, 'dropout': 0.2}\n",
      "{'pool': 2, 'filters0': 40, 'kernels0': 40, 'filters1': 40, 'kernels1': 25, 'filters2': 10, 'kernels2': 10, 'filters3': 40, 'kernels3': 25, 'filters4': 10, 'kernels4': 30, 'fc0': 64, 'fc1': 32, 'dropout': 0.30000000000000004}\n"
     ]
    }
   ],
   "source": [
    "for params in tuner.get_best_hyperparameters(5):\n",
    "    print(params.values)"
   ]
  },
  {
   "cell_type": "code",
   "execution_count": 4,
   "metadata": {},
   "outputs": [
    {
     "name": "stdout",
     "output_type": "stream",
     "text": [
      "Results summary\n",
      "Results in ../results/n_filters=5_n_fc=2\n",
      "Showing 10 best trials\n",
      "Objective(name=\"val_loss\", direction=\"min\")\n",
      "\n",
      "Trial 010 summary\n",
      "Hyperparameters:\n",
      "pool: 2\n",
      "filters0: 40\n",
      "kernels0: 40\n",
      "filters1: 50\n",
      "kernels1: 40\n",
      "filters2: 50\n",
      "kernels2: 40\n",
      "filters3: 40\n",
      "kernels3: 10\n",
      "filters4: 20\n",
      "kernels4: 20\n",
      "fc0: 16\n",
      "fc1: 16\n",
      "dropout: 0.4\n",
      "Score: 0.20330690890550612\n",
      "\n",
      "Trial 060 summary\n",
      "Hyperparameters:\n",
      "pool: 2\n",
      "filters0: 50\n",
      "kernels0: 30\n",
      "filters1: 40\n",
      "kernels1: 25\n",
      "filters2: 30\n",
      "kernels2: 50\n",
      "filters3: 40\n",
      "kernels3: 30\n",
      "filters4: 20\n",
      "kernels4: 25\n",
      "fc0: 128\n",
      "fc1: 64\n",
      "dropout: 0.4\n",
      "Score: 0.20401793271303176\n",
      "\n",
      "Trial 018 summary\n",
      "Hyperparameters:\n",
      "pool: 2\n",
      "filters0: 30\n",
      "kernels0: 25\n",
      "filters1: 50\n",
      "kernels1: 20\n",
      "filters2: 20\n",
      "kernels2: 5\n",
      "filters3: 5\n",
      "kernels3: 10\n",
      "filters4: 50\n",
      "kernels4: 10\n",
      "fc0: 64\n",
      "fc1: 32\n",
      "dropout: 0.1\n",
      "Score: 0.20720490217208862\n",
      "\n",
      "Trial 026 summary\n",
      "Hyperparameters:\n",
      "pool: 2\n",
      "filters0: 50\n",
      "kernels0: 15\n",
      "filters1: 15\n",
      "kernels1: 25\n",
      "filters2: 15\n",
      "kernels2: 30\n",
      "filters3: 30\n",
      "kernels3: 15\n",
      "filters4: 50\n",
      "kernels4: 20\n",
      "fc0: 64\n",
      "fc1: 128\n",
      "dropout: 0.2\n",
      "Score: 0.21217214465141296\n",
      "\n",
      "Trial 092 summary\n",
      "Hyperparameters:\n",
      "pool: 2\n",
      "filters0: 40\n",
      "kernels0: 40\n",
      "filters1: 40\n",
      "kernels1: 25\n",
      "filters2: 10\n",
      "kernels2: 10\n",
      "filters3: 40\n",
      "kernels3: 25\n",
      "filters4: 10\n",
      "kernels4: 30\n",
      "fc0: 64\n",
      "fc1: 32\n",
      "dropout: 0.30000000000000004\n",
      "Score: 0.21400858610868453\n",
      "\n",
      "Trial 016 summary\n",
      "Hyperparameters:\n",
      "pool: 2\n",
      "filters0: 50\n",
      "kernels0: 10\n",
      "filters1: 15\n",
      "kernels1: 15\n",
      "filters2: 20\n",
      "kernels2: 20\n",
      "filters3: 25\n",
      "kernels3: 20\n",
      "filters4: 30\n",
      "kernels4: 15\n",
      "fc0: 64\n",
      "fc1: 64\n",
      "dropout: 0.30000000000000004\n",
      "Score: 0.21520677655935289\n",
      "\n",
      "Trial 084 summary\n",
      "Hyperparameters:\n",
      "pool: 2\n",
      "filters0: 5\n",
      "kernels0: 40\n",
      "filters1: 25\n",
      "kernels1: 40\n",
      "filters2: 40\n",
      "kernels2: 10\n",
      "filters3: 40\n",
      "kernels3: 5\n",
      "filters4: 50\n",
      "kernels4: 20\n",
      "fc0: 64\n",
      "fc1: 32\n",
      "dropout: 0.30000000000000004\n",
      "Score: 0.21591165214776992\n",
      "\n",
      "Trial 093 summary\n",
      "Hyperparameters:\n",
      "pool: 2\n",
      "filters0: 40\n",
      "kernels0: 30\n",
      "filters1: 5\n",
      "kernels1: 5\n",
      "filters2: 15\n",
      "kernels2: 10\n",
      "filters3: 10\n",
      "kernels3: 10\n",
      "filters4: 40\n",
      "kernels4: 15\n",
      "fc0: 128\n",
      "fc1: 16\n",
      "dropout: 0.1\n",
      "Score: 0.2181925430893898\n",
      "\n",
      "Trial 063 summary\n",
      "Hyperparameters:\n",
      "pool: 2\n",
      "filters0: 30\n",
      "kernels0: 20\n",
      "filters1: 50\n",
      "kernels1: 25\n",
      "filters2: 10\n",
      "kernels2: 20\n",
      "filters3: 10\n",
      "kernels3: 5\n",
      "filters4: 20\n",
      "kernels4: 5\n",
      "fc0: 64\n",
      "fc1: 128\n",
      "dropout: 0.1\n",
      "Score: 0.22294424325227738\n",
      "\n",
      "Trial 035 summary\n",
      "Hyperparameters:\n",
      "pool: 2\n",
      "filters0: 10\n",
      "kernels0: 20\n",
      "filters1: 40\n",
      "kernels1: 25\n",
      "filters2: 50\n",
      "kernels2: 10\n",
      "filters3: 40\n",
      "kernels3: 40\n",
      "filters4: 50\n",
      "kernels4: 15\n",
      "fc0: 32\n",
      "fc1: 64\n",
      "dropout: 0.30000000000000004\n",
      "Score: 0.22506431490182877\n"
     ]
    }
   ],
   "source": [
    "tuner.results_summary()"
   ]
  },
  {
   "cell_type": "code",
   "execution_count": 5,
   "metadata": {},
   "outputs": [],
   "source": [
    "from sklearn import model_selection\n",
    "from cardiac_rythm import preprocessing\n",
    "\n",
    "\n",
    "rng = np.random.RandomState(0)\n",
    "# Load data and create dataframe\n",
    "df = preprocessing.load_data(\"/home/halli/ux/BMDLab/matlab/resprog/GUI/CleanCutsDL/cutDataCinCTTI_rev_v2.mat\")\n",
    "\n",
    "\n",
    "x = np.stack(df[\"s_ecg\"].to_numpy())\n",
    "x = x.reshape((*x.shape, 1))\n",
    "y = df[\"c_label\"].to_numpy()\n",
    "y = y - 1  # 0-4 instead of 1-5\n",
    "\n",
    "x_train, x_test, y_train, y_test = model_selection.train_test_split(\n",
    "    x,\n",
    "    y,\n",
    "    test_size=0.1,\n",
    "    random_state=rng,\n",
    "    stratify=y,\n",
    ")"
   ]
  },
  {
   "cell_type": "code",
   "execution_count": 6,
   "metadata": {},
   "outputs": [],
   "source": [
    "from matplotlib import pyplot as plt\n",
    "from sklearn.metrics import confusion_matrix, balanced_accuracy_score\n",
    "import seaborn as sns\n",
    "\n",
    "def get_metrics(y_test, prediction) -> None:\n",
    "    conf_matrix = confusion_matrix(y_test, prediction)\n",
    "    norm = conf_matrix.astype(\"float\") / conf_matrix.sum(axis=1)[:, np.newaxis]\n",
    "    bac = balanced_accuracy_score(y_test, prediction)\n",
    "\n",
    "    # f, ax = plt.subplots(figsize=(4, 4))\n",
    "    # sns.heatmap(norm, annot=True, linewidths=0.01, cmap=\"Oranges\", linecolor=\"gray\")\n",
    "    # ax.xaxis.set_ticklabels([\"AS\", \"PEA\", \"PR\", \"VF\", \"VT\"])\n",
    "    # ax.yaxis.set_ticklabels([\"AS\", \"PEA\", \"PR\", \"VF\", \"VT\"])\n",
    "    # plt.xlabel(\"Predicted Label\")\n",
    "    # plt.ylabel(\"True Label\")\n",
    "    # plt.title(\"Confusion Matrix\")\n",
    "    # plt.show()\n",
    "\n",
    "    accuracy = conf_matrix.diagonal().sum()/conf_matrix.sum()\n",
    "    precision = conf_matrix.diagonal()/conf_matrix.sum(axis=0)\n",
    "    recall = conf_matrix.diagonal()/conf_matrix.sum(axis=1)\n",
    "\n",
    "    # print(f\"{accuracy=}, {bac=}\\n{precision=}\\n{recall=}\")\n",
    "    return accuracy, bac"
   ]
  },
  {
   "cell_type": "code",
   "execution_count": 7,
   "metadata": {},
   "outputs": [
    {
     "name": "stdout",
     "output_type": "stream",
     "text": [
      "9/9 [==============================] - 1s 14ms/step\n",
      "9/9 [==============================] - 0s 10ms/step\n",
      "9/9 [==============================] - 0s 7ms/step\n",
      "9/9 [==============================] - 0s 7ms/step\n",
      "9/9 [==============================] - 0s 8ms/step\n",
      "9/9 [==============================] - 0s 8ms/step\n",
      "9/9 [==============================] - 0s 6ms/step\n",
      "9/9 [==============================] - 0s 7ms/step\n",
      "9/9 [==============================] - 0s 8ms/step\n",
      "9/9 [==============================] - 0s 7ms/step\n"
     ]
    }
   ],
   "source": [
    "for model in models:\n",
    "    prediction = np.argmax(model.predict(x_test), axis=1)\n",
    "    get_metrics(y_test, prediction)"
   ]
  },
  {
   "cell_type": "code",
   "execution_count": 17,
   "metadata": {},
   "outputs": [
    {
     "name": "stdout",
     "output_type": "stream",
     "text": [
      "9/9 [==============================] - 0s 8ms/step\n",
      "Best acc: 0.8873239436619719\n",
      "Best bac: 0.8873239436619719\n",
      "9/9 [==============================] - 0s 9ms/step\n",
      "9/9 [==============================] - 0s 13ms/step\n",
      "Best acc: 0.8908450704225352\n",
      "9/9 [==============================] - 0s 8ms/step\n",
      "Best acc: 0.9119718309859155\n",
      "Best bac: 0.9119718309859155\n",
      "9/9 [==============================] - 0s 7ms/step\n",
      "Best bac: 0.9014084507042254\n",
      "9/9 [==============================] - 0s 9ms/step\n",
      "9/9 [==============================] - 0s 8ms/step\n"
     ]
    },
    {
     "name": "stderr",
     "output_type": "stream",
     "text": [
      "/tmp/ipykernel_2833/134903536.py:20: RuntimeWarning: invalid value encountered in divide\n",
      "  precision = conf_matrix.diagonal()/conf_matrix.sum(axis=0)\n",
      "/tmp/ipykernel_2833/134903536.py:20: RuntimeWarning: invalid value encountered in divide\n",
      "  precision = conf_matrix.diagonal()/conf_matrix.sum(axis=0)\n"
     ]
    },
    {
     "name": "stdout",
     "output_type": "stream",
     "text": [
      "9/9 [==============================] - 1s 17ms/step\n",
      "Best bac: 0.9084507042253521\n",
      "9/9 [==============================] - 0s 6ms/step\n",
      "9/9 [==============================] - 0s 4ms/step\n"
     ]
    },
    {
     "name": "stderr",
     "output_type": "stream",
     "text": [
      "/tmp/ipykernel_2833/134903536.py:20: RuntimeWarning: invalid value encountered in divide\n",
      "  precision = conf_matrix.diagonal()/conf_matrix.sum(axis=0)\n",
      "/tmp/ipykernel_2833/134903536.py:20: RuntimeWarning: invalid value encountered in divide\n",
      "  precision = conf_matrix.diagonal()/conf_matrix.sum(axis=0)\n"
     ]
    },
    {
     "name": "stdout",
     "output_type": "stream",
     "text": [
      "9/9 [==============================] - 0s 8ms/step\n",
      "Best acc: 0.9154929577464789\n",
      "9/9 [==============================] - 0s 5ms/step\n",
      "Best acc: 0.9401408450704225\n",
      "Best bac: 0.9401408450704225\n",
      "9/9 [==============================] - 0s 7ms/step\n",
      "9/9 [==============================] - 0s 5ms/step\n",
      "9/9 [==============================] - 0s 9ms/step\n",
      "9/9 [==============================] - 0s 8ms/step\n"
     ]
    },
    {
     "name": "stderr",
     "output_type": "stream",
     "text": [
      "/tmp/ipykernel_2833/134903536.py:20: RuntimeWarning: invalid value encountered in divide\n",
      "  precision = conf_matrix.diagonal()/conf_matrix.sum(axis=0)\n",
      "/tmp/ipykernel_2833/134903536.py:20: RuntimeWarning: invalid value encountered in divide\n",
      "  precision = conf_matrix.diagonal()/conf_matrix.sum(axis=0)\n"
     ]
    },
    {
     "name": "stdout",
     "output_type": "stream",
     "text": [
      "9/9 [==============================] - 0s 6ms/step\n",
      "9/9 [==============================] - 0s 6ms/step\n"
     ]
    },
    {
     "name": "stderr",
     "output_type": "stream",
     "text": [
      "/tmp/ipykernel_2833/134903536.py:20: RuntimeWarning: invalid value encountered in divide\n",
      "  precision = conf_matrix.diagonal()/conf_matrix.sum(axis=0)\n",
      "/tmp/ipykernel_2833/134903536.py:20: RuntimeWarning: invalid value encountered in divide\n",
      "  precision = conf_matrix.diagonal()/conf_matrix.sum(axis=0)\n"
     ]
    },
    {
     "name": "stdout",
     "output_type": "stream",
     "text": [
      "9/9 [==============================] - 0s 6ms/step\n"
     ]
    },
    {
     "name": "stderr",
     "output_type": "stream",
     "text": [
      "/tmp/ipykernel_2833/134903536.py:20: RuntimeWarning: invalid value encountered in divide\n",
      "  precision = conf_matrix.diagonal()/conf_matrix.sum(axis=0)\n",
      "/tmp/ipykernel_2833/134903536.py:20: RuntimeWarning: invalid value encountered in divide\n",
      "  precision = conf_matrix.diagonal()/conf_matrix.sum(axis=0)\n"
     ]
    },
    {
     "name": "stdout",
     "output_type": "stream",
     "text": [
      "9/9 [==============================] - 0s 6ms/step\n"
     ]
    },
    {
     "name": "stderr",
     "output_type": "stream",
     "text": [
      "/tmp/ipykernel_2833/134903536.py:20: RuntimeWarning: invalid value encountered in divide\n",
      "  precision = conf_matrix.diagonal()/conf_matrix.sum(axis=0)\n",
      "/tmp/ipykernel_2833/134903536.py:20: RuntimeWarning: invalid value encountered in divide\n",
      "  precision = conf_matrix.diagonal()/conf_matrix.sum(axis=0)\n"
     ]
    },
    {
     "name": "stdout",
     "output_type": "stream",
     "text": [
      "WARNING:tensorflow:Detecting that an object or model or tf.train.Checkpoint is being deleted with unrestored values. See the following logs for the specific values in question. To silence these warnings, use `status.expect_partial()`. See https://www.tensorflow.org/api_docs/python/tf/train/Checkpoint#restorefor details about the status object returned by the restore function.\n",
      "WARNING:tensorflow:Value in checkpoint could not be found in the restored object: (root).optimizer.iter\n",
      "WARNING:tensorflow:Value in checkpoint could not be found in the restored object: (root).optimizer.beta_1\n",
      "WARNING:tensorflow:Value in checkpoint could not be found in the restored object: (root).optimizer.beta_2\n",
      "WARNING:tensorflow:Value in checkpoint could not be found in the restored object: (root).optimizer.decay\n",
      "WARNING:tensorflow:Value in checkpoint could not be found in the restored object: (root).optimizer.learning_rate\n",
      "WARNING:tensorflow:Value in checkpoint could not be found in the restored object: (root).optimizer's state 'm' for (root).fc_out.kernel\n",
      "WARNING:tensorflow:Value in checkpoint could not be found in the restored object: (root).optimizer's state 'm' for (root).fc_out.bias\n",
      "WARNING:tensorflow:Value in checkpoint could not be found in the restored object: (root).optimizer's state 'm' for (root).fc_blocks.0.kernel\n",
      "WARNING:tensorflow:Value in checkpoint could not be found in the restored object: (root).optimizer's state 'm' for (root).fc_blocks.0.bias\n",
      "WARNING:tensorflow:Value in checkpoint could not be found in the restored object: (root).optimizer's state 'm' for (root).fc_blocks.1.kernel\n",
      "WARNING:tensorflow:Value in checkpoint could not be found in the restored object: (root).optimizer's state 'm' for (root).fc_blocks.1.bias\n",
      "WARNING:tensorflow:Value in checkpoint could not be found in the restored object: (root).optimizer's state 'm' for (root).cnn_blocks.0.conv.kernel\n",
      "WARNING:tensorflow:Value in checkpoint could not be found in the restored object: (root).optimizer's state 'm' for (root).cnn_blocks.0.conv.bias\n",
      "WARNING:tensorflow:Value in checkpoint could not be found in the restored object: (root).optimizer's state 'm' for (root).cnn_blocks.0.bn.gamma\n",
      "WARNING:tensorflow:Value in checkpoint could not be found in the restored object: (root).optimizer's state 'm' for (root).cnn_blocks.0.bn.beta\n",
      "WARNING:tensorflow:Value in checkpoint could not be found in the restored object: (root).optimizer's state 'm' for (root).cnn_blocks.1.conv.kernel\n",
      "WARNING:tensorflow:Value in checkpoint could not be found in the restored object: (root).optimizer's state 'm' for (root).cnn_blocks.1.conv.bias\n",
      "WARNING:tensorflow:Value in checkpoint could not be found in the restored object: (root).optimizer's state 'm' for (root).cnn_blocks.1.bn.gamma\n",
      "WARNING:tensorflow:Value in checkpoint could not be found in the restored object: (root).optimizer's state 'm' for (root).cnn_blocks.1.bn.beta\n",
      "WARNING:tensorflow:Value in checkpoint could not be found in the restored object: (root).optimizer's state 'm' for (root).cnn_blocks.2.conv.kernel\n",
      "WARNING:tensorflow:Value in checkpoint could not be found in the restored object: (root).optimizer's state 'm' for (root).cnn_blocks.2.conv.bias\n",
      "WARNING:tensorflow:Value in checkpoint could not be found in the restored object: (root).optimizer's state 'm' for (root).cnn_blocks.2.bn.gamma\n",
      "WARNING:tensorflow:Value in checkpoint could not be found in the restored object: (root).optimizer's state 'm' for (root).cnn_blocks.2.bn.beta\n",
      "WARNING:tensorflow:Value in checkpoint could not be found in the restored object: (root).optimizer's state 'm' for (root).cnn_blocks.3.conv.kernel\n",
      "WARNING:tensorflow:Value in checkpoint could not be found in the restored object: (root).optimizer's state 'm' for (root).cnn_blocks.3.conv.bias\n",
      "WARNING:tensorflow:Value in checkpoint could not be found in the restored object: (root).optimizer's state 'm' for (root).cnn_blocks.3.bn.gamma\n",
      "WARNING:tensorflow:Value in checkpoint could not be found in the restored object: (root).optimizer's state 'm' for (root).cnn_blocks.3.bn.beta\n",
      "WARNING:tensorflow:Value in checkpoint could not be found in the restored object: (root).optimizer's state 'm' for (root).cnn_blocks.4.conv.kernel\n",
      "WARNING:tensorflow:Value in checkpoint could not be found in the restored object: (root).optimizer's state 'm' for (root).cnn_blocks.4.conv.bias\n",
      "WARNING:tensorflow:Value in checkpoint could not be found in the restored object: (root).optimizer's state 'm' for (root).cnn_blocks.4.bn.gamma\n",
      "WARNING:tensorflow:Value in checkpoint could not be found in the restored object: (root).optimizer's state 'm' for (root).cnn_blocks.4.bn.beta\n",
      "WARNING:tensorflow:Value in checkpoint could not be found in the restored object: (root).optimizer's state 'v' for (root).fc_out.kernel\n",
      "WARNING:tensorflow:Value in checkpoint could not be found in the restored object: (root).optimizer's state 'v' for (root).fc_out.bias\n",
      "WARNING:tensorflow:Value in checkpoint could not be found in the restored object: (root).optimizer's state 'v' for (root).fc_blocks.0.kernel\n",
      "WARNING:tensorflow:Value in checkpoint could not be found in the restored object: (root).optimizer's state 'v' for (root).fc_blocks.0.bias\n",
      "WARNING:tensorflow:Value in checkpoint could not be found in the restored object: (root).optimizer's state 'v' for (root).fc_blocks.1.kernel\n",
      "WARNING:tensorflow:Value in checkpoint could not be found in the restored object: (root).optimizer's state 'v' for (root).fc_blocks.1.bias\n",
      "WARNING:tensorflow:Value in checkpoint could not be found in the restored object: (root).optimizer's state 'v' for (root).cnn_blocks.0.conv.kernel\n",
      "WARNING:tensorflow:Value in checkpoint could not be found in the restored object: (root).optimizer's state 'v' for (root).cnn_blocks.0.conv.bias\n",
      "WARNING:tensorflow:Value in checkpoint could not be found in the restored object: (root).optimizer's state 'v' for (root).cnn_blocks.0.bn.gamma\n",
      "WARNING:tensorflow:Value in checkpoint could not be found in the restored object: (root).optimizer's state 'v' for (root).cnn_blocks.0.bn.beta\n",
      "WARNING:tensorflow:Value in checkpoint could not be found in the restored object: (root).optimizer's state 'v' for (root).cnn_blocks.1.conv.kernel\n",
      "WARNING:tensorflow:Value in checkpoint could not be found in the restored object: (root).optimizer's state 'v' for (root).cnn_blocks.1.conv.bias\n",
      "WARNING:tensorflow:Value in checkpoint could not be found in the restored object: (root).optimizer's state 'v' for (root).cnn_blocks.1.bn.gamma\n",
      "WARNING:tensorflow:Value in checkpoint could not be found in the restored object: (root).optimizer's state 'v' for (root).cnn_blocks.1.bn.beta\n",
      "WARNING:tensorflow:Value in checkpoint could not be found in the restored object: (root).optimizer's state 'v' for (root).cnn_blocks.2.conv.kernel\n",
      "WARNING:tensorflow:Value in checkpoint could not be found in the restored object: (root).optimizer's state 'v' for (root).cnn_blocks.2.conv.bias\n",
      "WARNING:tensorflow:Value in checkpoint could not be found in the restored object: (root).optimizer's state 'v' for (root).cnn_blocks.2.bn.gamma\n",
      "WARNING:tensorflow:Value in checkpoint could not be found in the restored object: (root).optimizer's state 'v' for (root).cnn_blocks.2.bn.beta\n",
      "WARNING:tensorflow:Value in checkpoint could not be found in the restored object: (root).optimizer's state 'v' for (root).cnn_blocks.3.conv.kernel\n",
      "WARNING:tensorflow:Value in checkpoint could not be found in the restored object: (root).optimizer's state 'v' for (root).cnn_blocks.3.conv.bias\n",
      "WARNING:tensorflow:Value in checkpoint could not be found in the restored object: (root).optimizer's state 'v' for (root).cnn_blocks.3.bn.gamma\n",
      "WARNING:tensorflow:Value in checkpoint could not be found in the restored object: (root).optimizer's state 'v' for (root).cnn_blocks.3.bn.beta\n",
      "WARNING:tensorflow:Value in checkpoint could not be found in the restored object: (root).optimizer's state 'v' for (root).cnn_blocks.4.conv.kernel\n",
      "WARNING:tensorflow:Value in checkpoint could not be found in the restored object: (root).optimizer's state 'v' for (root).cnn_blocks.4.conv.bias\n",
      "WARNING:tensorflow:Value in checkpoint could not be found in the restored object: (root).optimizer's state 'v' for (root).cnn_blocks.4.bn.gamma\n",
      "WARNING:tensorflow:Value in checkpoint could not be found in the restored object: (root).optimizer's state 'v' for (root).cnn_blocks.4.bn.beta\n",
      "9/9 [==============================] - 1s 7ms/step\n"
     ]
    },
    {
     "name": "stderr",
     "output_type": "stream",
     "text": [
      "/tmp/ipykernel_2833/134903536.py:20: RuntimeWarning: invalid value encountered in divide\n",
      "  precision = conf_matrix.diagonal()/conf_matrix.sum(axis=0)\n",
      "/tmp/ipykernel_2833/134903536.py:20: RuntimeWarning: invalid value encountered in divide\n",
      "  precision = conf_matrix.diagonal()/conf_matrix.sum(axis=0)\n"
     ]
    },
    {
     "name": "stdout",
     "output_type": "stream",
     "text": [
      "9/9 [==============================] - 0s 6ms/step\n"
     ]
    },
    {
     "name": "stderr",
     "output_type": "stream",
     "text": [
      "/tmp/ipykernel_2833/134903536.py:20: RuntimeWarning: invalid value encountered in divide\n",
      "  precision = conf_matrix.diagonal()/conf_matrix.sum(axis=0)\n",
      "/tmp/ipykernel_2833/134903536.py:20: RuntimeWarning: invalid value encountered in divide\n",
      "  precision = conf_matrix.diagonal()/conf_matrix.sum(axis=0)\n"
     ]
    },
    {
     "name": "stdout",
     "output_type": "stream",
     "text": [
      "9/9 [==============================] - 0s 10ms/step\n",
      "9/9 [==============================] - 0s 5ms/step\n"
     ]
    },
    {
     "name": "stderr",
     "output_type": "stream",
     "text": [
      "/tmp/ipykernel_2833/134903536.py:20: RuntimeWarning: invalid value encountered in divide\n",
      "  precision = conf_matrix.diagonal()/conf_matrix.sum(axis=0)\n",
      "/tmp/ipykernel_2833/134903536.py:20: RuntimeWarning: invalid value encountered in divide\n",
      "  precision = conf_matrix.diagonal()/conf_matrix.sum(axis=0)\n"
     ]
    },
    {
     "name": "stdout",
     "output_type": "stream",
     "text": [
      "9/9 [==============================] - 0s 5ms/step\n",
      "9/9 [==============================] - 0s 6ms/step\n",
      "9/9 [==============================] - 0s 5ms/step\n",
      "9/9 [==============================] - 0s 6ms/step\n",
      "9/9 [==============================] - 0s 4ms/step\n"
     ]
    },
    {
     "name": "stderr",
     "output_type": "stream",
     "text": [
      "/tmp/ipykernel_2833/134903536.py:20: RuntimeWarning: invalid value encountered in divide\n",
      "  precision = conf_matrix.diagonal()/conf_matrix.sum(axis=0)\n",
      "/tmp/ipykernel_2833/134903536.py:20: RuntimeWarning: invalid value encountered in divide\n",
      "  precision = conf_matrix.diagonal()/conf_matrix.sum(axis=0)\n"
     ]
    },
    {
     "name": "stdout",
     "output_type": "stream",
     "text": [
      "9/9 [==============================] - 0s 7ms/step\n",
      "9/9 [==============================] - 0s 5ms/step\n"
     ]
    },
    {
     "name": "stderr",
     "output_type": "stream",
     "text": [
      "/tmp/ipykernel_2833/134903536.py:20: RuntimeWarning: invalid value encountered in divide\n",
      "  precision = conf_matrix.diagonal()/conf_matrix.sum(axis=0)\n",
      "/tmp/ipykernel_2833/134903536.py:20: RuntimeWarning: invalid value encountered in divide\n",
      "  precision = conf_matrix.diagonal()/conf_matrix.sum(axis=0)\n"
     ]
    },
    {
     "name": "stdout",
     "output_type": "stream",
     "text": [
      "9/9 [==============================] - 0s 7ms/step\n",
      "9/9 [==============================] - 0s 7ms/step\n",
      "9/9 [==============================] - 0s 6ms/step\n",
      "9/9 [==============================] - 0s 10ms/step\n"
     ]
    },
    {
     "name": "stderr",
     "output_type": "stream",
     "text": [
      "/tmp/ipykernel_2833/134903536.py:20: RuntimeWarning: invalid value encountered in divide\n",
      "  precision = conf_matrix.diagonal()/conf_matrix.sum(axis=0)\n",
      "/tmp/ipykernel_2833/134903536.py:20: RuntimeWarning: invalid value encountered in divide\n",
      "  precision = conf_matrix.diagonal()/conf_matrix.sum(axis=0)\n"
     ]
    },
    {
     "name": "stdout",
     "output_type": "stream",
     "text": [
      "9/9 [==============================] - 0s 8ms/step\n",
      "9/9 [==============================] - 0s 7ms/step\n"
     ]
    },
    {
     "name": "stderr",
     "output_type": "stream",
     "text": [
      "/tmp/ipykernel_2833/134903536.py:20: RuntimeWarning: invalid value encountered in divide\n",
      "  precision = conf_matrix.diagonal()/conf_matrix.sum(axis=0)\n",
      "/tmp/ipykernel_2833/134903536.py:20: RuntimeWarning: invalid value encountered in divide\n",
      "  precision = conf_matrix.diagonal()/conf_matrix.sum(axis=0)\n"
     ]
    },
    {
     "name": "stdout",
     "output_type": "stream",
     "text": [
      "9/9 [==============================] - 0s 5ms/step\n",
      "9/9 [==============================] - 0s 7ms/step\n",
      "9/9 [==============================] - 0s 6ms/step\n",
      "9/9 [==============================] - 0s 6ms/step\n"
     ]
    },
    {
     "name": "stderr",
     "output_type": "stream",
     "text": [
      "/tmp/ipykernel_2833/134903536.py:20: RuntimeWarning: invalid value encountered in divide\n",
      "  precision = conf_matrix.diagonal()/conf_matrix.sum(axis=0)\n",
      "/tmp/ipykernel_2833/134903536.py:20: RuntimeWarning: invalid value encountered in divide\n",
      "  precision = conf_matrix.diagonal()/conf_matrix.sum(axis=0)\n"
     ]
    },
    {
     "name": "stdout",
     "output_type": "stream",
     "text": [
      "9/9 [==============================] - 1s 6ms/step\n",
      "9/9 [==============================] - 0s 5ms/step\n",
      "9/9 [==============================] - 0s 9ms/step\n",
      "9/9 [==============================] - 0s 4ms/step\n"
     ]
    },
    {
     "name": "stderr",
     "output_type": "stream",
     "text": [
      "/tmp/ipykernel_2833/134903536.py:20: RuntimeWarning: invalid value encountered in divide\n",
      "  precision = conf_matrix.diagonal()/conf_matrix.sum(axis=0)\n",
      "/tmp/ipykernel_2833/134903536.py:20: RuntimeWarning: invalid value encountered in divide\n",
      "  precision = conf_matrix.diagonal()/conf_matrix.sum(axis=0)\n"
     ]
    },
    {
     "name": "stdout",
     "output_type": "stream",
     "text": [
      "9/9 [==============================] - 0s 11ms/step\n",
      "9/9 [==============================] - 0s 5ms/step\n"
     ]
    },
    {
     "name": "stderr",
     "output_type": "stream",
     "text": [
      "/tmp/ipykernel_2833/134903536.py:20: RuntimeWarning: invalid value encountered in divide\n",
      "  precision = conf_matrix.diagonal()/conf_matrix.sum(axis=0)\n",
      "/tmp/ipykernel_2833/134903536.py:20: RuntimeWarning: invalid value encountered in divide\n",
      "  precision = conf_matrix.diagonal()/conf_matrix.sum(axis=0)\n"
     ]
    },
    {
     "name": "stdout",
     "output_type": "stream",
     "text": [
      "9/9 [==============================] - 0s 9ms/step\n"
     ]
    },
    {
     "name": "stderr",
     "output_type": "stream",
     "text": [
      "/tmp/ipykernel_2833/134903536.py:20: RuntimeWarning: invalid value encountered in divide\n",
      "  precision = conf_matrix.diagonal()/conf_matrix.sum(axis=0)\n",
      "/tmp/ipykernel_2833/134903536.py:20: RuntimeWarning: invalid value encountered in divide\n",
      "  precision = conf_matrix.diagonal()/conf_matrix.sum(axis=0)\n"
     ]
    },
    {
     "name": "stdout",
     "output_type": "stream",
     "text": [
      "9/9 [==============================] - 0s 10ms/step\n"
     ]
    },
    {
     "name": "stderr",
     "output_type": "stream",
     "text": [
      "/tmp/ipykernel_2833/134903536.py:20: RuntimeWarning: invalid value encountered in divide\n",
      "  precision = conf_matrix.diagonal()/conf_matrix.sum(axis=0)\n",
      "/tmp/ipykernel_2833/134903536.py:20: RuntimeWarning: invalid value encountered in divide\n",
      "  precision = conf_matrix.diagonal()/conf_matrix.sum(axis=0)\n"
     ]
    },
    {
     "name": "stdout",
     "output_type": "stream",
     "text": [
      "9/9 [==============================] - 0s 5ms/step\n"
     ]
    },
    {
     "name": "stderr",
     "output_type": "stream",
     "text": [
      "/tmp/ipykernel_2833/134903536.py:20: RuntimeWarning: invalid value encountered in divide\n",
      "  precision = conf_matrix.diagonal()/conf_matrix.sum(axis=0)\n",
      "/tmp/ipykernel_2833/134903536.py:20: RuntimeWarning: invalid value encountered in divide\n",
      "  precision = conf_matrix.diagonal()/conf_matrix.sum(axis=0)\n"
     ]
    },
    {
     "name": "stdout",
     "output_type": "stream",
     "text": [
      "9/9 [==============================] - 0s 11ms/step\n",
      "9/9 [==============================] - 0s 5ms/step\n"
     ]
    },
    {
     "name": "stderr",
     "output_type": "stream",
     "text": [
      "/tmp/ipykernel_2833/134903536.py:20: RuntimeWarning: invalid value encountered in divide\n",
      "  precision = conf_matrix.diagonal()/conf_matrix.sum(axis=0)\n",
      "/tmp/ipykernel_2833/134903536.py:20: RuntimeWarning: invalid value encountered in divide\n",
      "  precision = conf_matrix.diagonal()/conf_matrix.sum(axis=0)\n"
     ]
    },
    {
     "name": "stdout",
     "output_type": "stream",
     "text": [
      "9/9 [==============================] - 0s 5ms/step\n",
      "9/9 [==============================] - 0s 7ms/step\n",
      "9/9 [==============================] - 0s 5ms/step\n"
     ]
    },
    {
     "name": "stderr",
     "output_type": "stream",
     "text": [
      "/tmp/ipykernel_2833/134903536.py:20: RuntimeWarning: invalid value encountered in divide\n",
      "  precision = conf_matrix.diagonal()/conf_matrix.sum(axis=0)\n",
      "/tmp/ipykernel_2833/134903536.py:20: RuntimeWarning: invalid value encountered in divide\n",
      "  precision = conf_matrix.diagonal()/conf_matrix.sum(axis=0)\n"
     ]
    },
    {
     "name": "stdout",
     "output_type": "stream",
     "text": [
      "9/9 [==============================] - 0s 6ms/step\n"
     ]
    },
    {
     "name": "stderr",
     "output_type": "stream",
     "text": [
      "/tmp/ipykernel_2833/134903536.py:20: RuntimeWarning: invalid value encountered in divide\n",
      "  precision = conf_matrix.diagonal()/conf_matrix.sum(axis=0)\n",
      "/tmp/ipykernel_2833/134903536.py:20: RuntimeWarning: invalid value encountered in divide\n",
      "  precision = conf_matrix.diagonal()/conf_matrix.sum(axis=0)\n"
     ]
    },
    {
     "name": "stdout",
     "output_type": "stream",
     "text": [
      "9/9 [==============================] - 0s 6ms/step\n",
      "9/9 [==============================] - 0s 5ms/step\n",
      "9/9 [==============================] - 0s 6ms/step\n",
      "9/9 [==============================] - 0s 5ms/step\n"
     ]
    },
    {
     "name": "stderr",
     "output_type": "stream",
     "text": [
      "/tmp/ipykernel_2833/134903536.py:20: RuntimeWarning: invalid value encountered in divide\n",
      "  precision = conf_matrix.diagonal()/conf_matrix.sum(axis=0)\n",
      "/tmp/ipykernel_2833/134903536.py:20: RuntimeWarning: invalid value encountered in divide\n",
      "  precision = conf_matrix.diagonal()/conf_matrix.sum(axis=0)\n"
     ]
    },
    {
     "name": "stdout",
     "output_type": "stream",
     "text": [
      "9/9 [==============================] - 0s 4ms/step\n",
      "9/9 [==============================] - 0s 6ms/step\n"
     ]
    },
    {
     "name": "stderr",
     "output_type": "stream",
     "text": [
      "/tmp/ipykernel_2833/134903536.py:20: RuntimeWarning: invalid value encountered in divide\n",
      "  precision = conf_matrix.diagonal()/conf_matrix.sum(axis=0)\n",
      "/tmp/ipykernel_2833/134903536.py:20: RuntimeWarning: invalid value encountered in divide\n",
      "  precision = conf_matrix.diagonal()/conf_matrix.sum(axis=0)\n"
     ]
    },
    {
     "name": "stdout",
     "output_type": "stream",
     "text": [
      "9/9 [==============================] - 0s 4ms/step\n",
      "9/9 [==============================] - 0s 13ms/step\n"
     ]
    },
    {
     "name": "stderr",
     "output_type": "stream",
     "text": [
      "/tmp/ipykernel_2833/134903536.py:20: RuntimeWarning: invalid value encountered in divide\n",
      "  precision = conf_matrix.diagonal()/conf_matrix.sum(axis=0)\n",
      "/tmp/ipykernel_2833/134903536.py:20: RuntimeWarning: invalid value encountered in divide\n",
      "  precision = conf_matrix.diagonal()/conf_matrix.sum(axis=0)\n"
     ]
    },
    {
     "name": "stdout",
     "output_type": "stream",
     "text": [
      "9/9 [==============================] - 0s 9ms/step\n",
      "9/9 [==============================] - 0s 8ms/step\n"
     ]
    },
    {
     "name": "stderr",
     "output_type": "stream",
     "text": [
      "/tmp/ipykernel_2833/134903536.py:20: RuntimeWarning: invalid value encountered in divide\n",
      "  precision = conf_matrix.diagonal()/conf_matrix.sum(axis=0)\n",
      "/tmp/ipykernel_2833/134903536.py:20: RuntimeWarning: invalid value encountered in divide\n",
      "  precision = conf_matrix.diagonal()/conf_matrix.sum(axis=0)\n"
     ]
    },
    {
     "name": "stdout",
     "output_type": "stream",
     "text": [
      "9/9 [==============================] - 0s 5ms/step\n",
      "9/9 [==============================] - 0s 6ms/step\n"
     ]
    },
    {
     "name": "stderr",
     "output_type": "stream",
     "text": [
      "/tmp/ipykernel_2833/134903536.py:20: RuntimeWarning: invalid value encountered in divide\n",
      "  precision = conf_matrix.diagonal()/conf_matrix.sum(axis=0)\n",
      "/tmp/ipykernel_2833/134903536.py:20: RuntimeWarning: invalid value encountered in divide\n",
      "  precision = conf_matrix.diagonal()/conf_matrix.sum(axis=0)\n"
     ]
    },
    {
     "name": "stdout",
     "output_type": "stream",
     "text": [
      "9/9 [==============================] - 0s 5ms/step\n",
      "Best acc: 0.9436619718309859\n",
      "Best bac: 0.9436619718309859\n",
      "9/9 [==============================] - 0s 4ms/step\n",
      "9/9 [==============================] - 0s 13ms/step\n",
      "9/9 [==============================] - 0s 5ms/step\n"
     ]
    },
    {
     "name": "stderr",
     "output_type": "stream",
     "text": [
      "/tmp/ipykernel_2833/134903536.py:20: RuntimeWarning: invalid value encountered in divide\n",
      "  precision = conf_matrix.diagonal()/conf_matrix.sum(axis=0)\n",
      "/tmp/ipykernel_2833/134903536.py:20: RuntimeWarning: invalid value encountered in divide\n",
      "  precision = conf_matrix.diagonal()/conf_matrix.sum(axis=0)\n"
     ]
    },
    {
     "name": "stdout",
     "output_type": "stream",
     "text": [
      "9/9 [==============================] - 0s 6ms/step\n",
      "9/9 [==============================] - 0s 4ms/step\n",
      "9/9 [==============================] - 0s 8ms/step\n",
      "9/9 [==============================] - 0s 6ms/step\n",
      "9/9 [==============================] - 0s 11ms/step\n",
      "9/9 [==============================] - 0s 8ms/step\n"
     ]
    },
    {
     "name": "stderr",
     "output_type": "stream",
     "text": [
      "/tmp/ipykernel_2833/134903536.py:20: RuntimeWarning: invalid value encountered in divide\n",
      "  precision = conf_matrix.diagonal()/conf_matrix.sum(axis=0)\n",
      "/tmp/ipykernel_2833/134903536.py:20: RuntimeWarning: invalid value encountered in divide\n",
      "  precision = conf_matrix.diagonal()/conf_matrix.sum(axis=0)\n"
     ]
    },
    {
     "name": "stdout",
     "output_type": "stream",
     "text": [
      "9/9 [==============================] - 0s 6ms/step\n",
      "9/9 [==============================] - 0s 5ms/step\n"
     ]
    },
    {
     "name": "stderr",
     "output_type": "stream",
     "text": [
      "/tmp/ipykernel_2833/134903536.py:20: RuntimeWarning: invalid value encountered in divide\n",
      "  precision = conf_matrix.diagonal()/conf_matrix.sum(axis=0)\n",
      "/tmp/ipykernel_2833/134903536.py:20: RuntimeWarning: invalid value encountered in divide\n",
      "  precision = conf_matrix.diagonal()/conf_matrix.sum(axis=0)\n"
     ]
    },
    {
     "name": "stdout",
     "output_type": "stream",
     "text": [
      "9/9 [==============================] - 0s 7ms/step\n"
     ]
    }
   ],
   "source": [
    "import os\n",
    "from pathlib import Path\n",
    "\n",
    "from cardiac_rythm.models import CNN, CNNConfig\n",
    "best_acc = 0\n",
    "best_bac = 0\n",
    "\n",
    "res_dir = Path(\"../results/n_filters=5_n_fc=2/\")\n",
    "results = []\n",
    "for dir in res_dir.glob(\"trial_*\"):\n",
    "    with open(dir / \"model_config.json\") as f:\n",
    "        conf = CNNConfig.from_json(f.read())\n",
    "        model = CNN(conf)\n",
    "        try:\n",
    "            model.load_weights(dir / \"checkpoint\").expect_partial()\n",
    "            prediction = np.argmax(model.predict(x_test), axis=1)\n",
    "            acc, bac = get_metrics(y_test, prediction)\n",
    "            results.append(get_metrics(y_test, prediction))\n",
    "            if acc > best_acc:\n",
    "                print(f\"Best acc: {acc}\")\n",
    "                best_acc = acc\n",
    "                best_model = model\n",
    "            if bac > best_bac:\n",
    "                print(f\"Best bac: {acc}\")\n",
    "                best_bac = bac\n",
    "        except:\n",
    "            results.append((0, 0))"
   ]
  },
  {
   "cell_type": "code",
   "execution_count": 18,
   "metadata": {},
   "outputs": [
    {
     "name": "stdout",
     "output_type": "stream",
     "text": [
      "[(0.8873239436619719, 0.8639762794750008), (0.7429577464788732, 0.7418243819266837), (0.8908450704225352, 0.8420791995728057), (0, 0), (0.9119718309859155, 0.8942343760246573), (0.9014084507042254, 0.8947042897426529), (0, 0), (0.8943661971830986, 0.8781171599074412), (0, 0), (0.3204225352112676, 0.2), (0.9084507042253521, 0.9119316489137461), (0, 0), (0.7183098591549296, 0.6585923198710922), (0.3204225352112676, 0.2), (0.9154929577464789, 0.8721143306821055), (0.9401408450704225, 0.9538716356107659), (0.9190140845070423, 0.918107791611628), (0.9190140845070423, 0.8810760424571166), (0.9295774647887324, 0.9381285892283335), (0.3204225352112676, 0.2), (0.8767605633802817, 0.8250620649597632), (0.3204225352112676, 0.2), (0.3204225352112676, 0.2), (0.3626760563380282, 0.2863194776238255), (0.3204225352112676, 0.2), (0.5528169014084507, 0.5172288580984233), (0.9225352112676056, 0.8971615937344838), (0, 0), (0, 0), (0.3204225352112676, 0.2), (0.8908450704225352, 0.8464620630861039), (0.9154929577464789, 0.8807415942965816), (0, 0), (0, 0), (0.823943661971831, 0.7864890437780463), (0.9190140845070423, 0.909420008806198), (0.545774647887324, 0.5024239528587355), (0.8626760563380281, 0.8169716046953898), (0.3204225352112676, 0.2), (0.8802816901408451, 0.8497190448085588), (0.852112676056338, 0.8341736694677871), (0.8767605633802817, 0.8348678601875532), (0.3204225352112676, 0.2), (0.8204225352112676, 0.8013228033688391), (0.3204225352112676, 0.2), (0.8556338028169014, 0.8116968794206645), (0.9190140845070423, 0.9105826143166297), (0.7147887323943662, 0.6518460226900125), (0, 0), (0.6267605633802817, 0.5707596751075013), (0.9225352112676056, 0.8865992149368109), (0.7323943661971831, 0.6594969225148254), (0.6866197183098591, 0.6373101749060828), (0.3204225352112676, 0.2), (0.926056338028169, 0.8981855484668785), (0.3204225352112676, 0.2), (0, 0), (0.6267605633802817, 0.5496607740086001), (0.6373239436619719, 0.5862844401974836), (0.3204225352112676, 0.2), (0.9225352112676056, 0.896806347957243), (0.3204225352112676, 0.2), (0.9119718309859155, 0.8893338204847157), (0.9295774647887324, 0.9314205146941721), (0, 0), (0, 0), (0.14788732394366197, 0.2), (0, 0), (0.3204225352112676, 0.2), (0.6690140845070423, 0.6200144271755524), (0.9295774647887324, 0.9311257881078852), (0.8274647887323944, 0.8041385383584873), (0, 0), (0.14788732394366197, 0.2), (0.6971830985915493, 0.6361953477042991), (0.6971830985915493, 0.6224239528587354), (0.9014084507042254, 0.8745750072604294), (0.3204225352112676, 0.2), (0.9084507042253521, 0.8840495395482607), (0.4154929577464789, 0.4156649147953496), (0.8802816901408451, 0.8477951715803378), (0, 0), (0.3204225352112676, 0.2), (0, 0), (0.9436619718309859, 0.956486701704093), (0, 0), (0.7816901408450704, 0.7286117122434257), (0.9295774647887324, 0.9036482017556187), (0.22887323943661972, 0.2), (0.9295774647887324, 0.9201573873696637), (0.6901408450704225, 0.6268817627385402), (0, 0), (0.9295774647887324, 0.9188164095069465), (0.9190140845070423, 0.8817767909839521), (0.8204225352112676, 0.7420627113721742), (0.14788732394366197, 0.2), (0.8204225352112676, 0.7891964812680925), (0.5845070422535211, 0.43809523809523815), (0.9049295774647887, 0.9108359330354215), (0, 0)]\n"
     ]
    },
    {
     "data": {
      "image/png": "[encoded data removed]",
      "text/plain": [
       "<Figure size 600x1200 with 2 Axes>"
      ]
     },
     "metadata": {},
     "output_type": "display_data"
    }
   ],
   "source": [
    "print(results)\n",
    "f, ax = plt.subplots(2, figsize=(6, 12))\n",
    "for i, (acc, bac) in enumerate(results):\n",
    "    ax[0].scatter(i, acc)\n",
    "    ax[1].scatter(i, bac)\n"
   ]
  },
  {
   "cell_type": "code",
   "execution_count": 19,
   "metadata": {},
   "outputs": [
    {
     "name": "stdout",
     "output_type": "stream",
     "text": [
      "Best acc: 0.8873239436619719 - 0\n",
      "Best bac: 0.8873239436619719 - 0\n",
      "Best acc: 0.8908450704225352 - 2\n",
      "Best acc: 0.9119718309859155 - 4\n",
      "Best bac: 0.9119718309859155 - 4\n",
      "Best bac: 0.9014084507042254 - 5\n",
      "Best bac: 0.9084507042253521 - 10\n",
      "Best acc: 0.9154929577464789 - 14\n",
      "Best acc: 0.9401408450704225 - 15\n",
      "Best bac: 0.9401408450704225 - 15\n",
      "Best acc: 0.9436619718309859 - 84\n",
      "Best bac: 0.9436619718309859 - 84\n"
     ]
    }
   ],
   "source": [
    "best_acc = 0\n",
    "best_bac = 0\n",
    "for i, (acc, bac) in enumerate(results):\n",
    "    if acc > best_acc:\n",
    "        print(f\"Best acc: {acc} - {i}\")\n",
    "        best_acc = acc\n",
    "    if bac > best_bac:\n",
    "        print(f\"Best bac: {acc} - {i}\")\n",
    "        best_bac = bac"
   ]
  },
  {
   "cell_type": "code",
   "execution_count": 20,
   "metadata": {},
   "outputs": [],
   "source": [
    "# best_model = tuner.get_best_models(1)[0]"
   ]
  },
  {
   "cell_type": "code",
   "execution_count": 21,
   "metadata": {},
   "outputs": [
    {
     "name": "stdout",
     "output_type": "stream",
     "text": [
      "9/9 [==============================] - 0s 8ms/step\n"
     ]
    }
   ],
   "source": [
    "prediction = np.argmax(best_model.predict(x_test), axis=1)\n",
    "prediction_shockable = np.where(prediction<3, 0, 1)\n",
    "true_shockable = np.where(y_test<3, 0, 1)"
   ]
  },
  {
   "cell_type": "code",
   "execution_count": 22,
   "metadata": {},
   "outputs": [
    {
     "data": {
      "text/plain": [
       "0.9900990099009901"
      ]
     },
     "execution_count": 22,
     "metadata": {},
     "output_type": "execute_result"
    }
   ],
   "source": [
    "conf_matrix = confusion_matrix(true_shockable, prediction_shockable)\n",
    "norm = conf_matrix.astype(\"float\") / conf_matrix.sum(axis=1)[:, np.newaxis]\n",
    "balanced_accuracy_score(true_shockable, prediction_shockable)\n"
   ]
  },
  {
   "cell_type": "code",
   "execution_count": 24,
   "metadata": {},
   "outputs": [
    {
     "data": {
      "text/plain": [
       "0.956486701704093"
      ]
     },
     "execution_count": 24,
     "metadata": {},
     "output_type": "execute_result"
    }
   ],
   "source": [
    "conf_matrix = confusion_matrix(y_test, prediction)\n",
    "norm = conf_matrix.astype(\"float\") / conf_matrix.sum(axis=1)[:, np.newaxis]\n",
    "bac = balanced_accuracy_score(y_test, prediction)\n",
    "bac"
   ]
  },
  {
   "cell_type": "code",
   "execution_count": 25,
   "metadata": {},
   "outputs": [
    {
     "data": {
      "text/plain": [
       "CNNConfig(filters=[15, 40, 50, 10, 20], kernels=[25, 15, 30, 25, 40], strides=[1, 1, 1, 1, 1], pool=[2, 2, 2, 2, 2], padding='valid', fc_end=[16, 32], dropout=0.9)"
      ]
     },
     "execution_count": 25,
     "metadata": {},
     "output_type": "execute_result"
    }
   ],
   "source": [
    "model.config"
   ]
  },
  {
   "cell_type": "code",
   "execution_count": 26,
   "metadata": {},
   "outputs": [
    {
     "data": {
      "image/png": "[encoded data removed]",
      "text/plain": [
       "<Figure size 400x400 with 2 Axes>"
      ]
     },
     "metadata": {},
     "output_type": "display_data"
    }
   ],
   "source": [
    "f, ax = plt.subplots(figsize=(4, 4))\n",
    "sns.heatmap(norm, annot=True, linewidths=0.01, cmap=\"Oranges\", linecolor=\"gray\")\n",
    "ax.xaxis.set_ticklabels([\"AS\", \"PEA\", \"PR\", \"VF\", \"VT\"])\n",
    "ax.yaxis.set_ticklabels([\"AS\", \"PEA\", \"PR\", \"VF\", \"VT\"])\n",
    "plt.xlabel(\"Predicted Label\")\n",
    "plt.ylabel(\"True Label\")\n",
    "plt.title(\"Confusion Matrix\")\n",
    "plt.show()"
   ]
  },
  {
   "cell_type": "code",
   "execution_count": 28,
   "metadata": {},
   "outputs": [
    {
     "data": {
      "text/plain": [
       "0.9436619718309859"
      ]
     },
     "execution_count": 28,
     "metadata": {},
     "output_type": "execute_result"
    }
   ],
   "source": [
    "conf_matrix.diagonal().sum()/conf_matrix.sum()"
   ]
  }
 ],
 "metadata": {
  "kernelspec": {
   "display_name": ".venv",
   "language": "python",
   "name": "python3"
  },
  "language_info": {
   "codemirror_mode": {
    "name": "ipython",
    "version": 3
   },
   "file_extension": ".py",
   "mimetype": "text/x-python",
   "name": "python",
   "nbconvert_exporter": "python",
   "pygments_lexer": "ipython3",
   "version": "3.11.6"
  }
 },
 "nbformat": 4,
 "nbformat_minor": 2
}
