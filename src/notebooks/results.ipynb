{
 "cells": [
  {
   "cell_type": "code",
   "execution_count": null,
   "metadata": {},
   "outputs": [],
   "source": [
    "%load_ext autoreload\n",
    "%autoreload 2"
   ]
  },
  {
   "cell_type": "code",
   "execution_count": null,
   "metadata": {},
   "outputs": [],
   "source": [
    "import pickle\n",
    "from matplotlib import pyplot as plt\n",
    "import numpy as np\n",
    "from sklearn import model_selection\n",
    "from cardiac_rythm import preprocessing"
   ]
  },
  {
   "cell_type": "markdown",
   "metadata": {},
   "source": [
    "Load the test data with same seed as when the model was trained."
   ]
  },
  {
   "cell_type": "code",
   "execution_count": null,
   "metadata": {},
   "outputs": [],
   "source": [
    "rng = np.random.RandomState(0)\n",
    "# Load data and create dataframe\n",
    "df = preprocessing.load_data(\"/home/halli/ux/BMDLab/matlab/resprog/GUI/CleanCutsDL/cutDataCinCTTI_rev_v2.mat\")\n",
    "\n",
    "\n",
    "x = np.stack(df[\"s_ecg\"].to_numpy())\n",
    "x = x.reshape((*x.shape, 1))\n",
    "y = df[\"c_label\"].to_numpy()\n",
    "y = y - 1  # 0-4 instead of 1-5\n",
    "\n",
    "x_train, x_test, y_train, y_test = model_selection.train_test_split(\n",
    "    x,\n",
    "    y,\n",
    "    test_size=0.1,\n",
    "    random_state=rng,\n",
    "    stratify=y,\n",
    ")"
   ]
  },
  {
   "cell_type": "code",
   "execution_count": null,
   "metadata": {},
   "outputs": [],
   "source": [
    "directory = \"../results/n_filters=5_n_fc=2/trial_084\"\n",
    "directory = \"logs/results/20231103-091057\"\n",
    "fold = 0"
   ]
  },
  {
   "cell_type": "code",
   "execution_count": null,
   "metadata": {},
   "outputs": [],
   "source": [
    "fig, ax = plt.subplots(2, 2, figsize=(12, 12), sharey=\"row\")\n",
    "ax = ax.ravel()\n",
    "for i in range(10):\n",
    "    try:\n",
    "        with open(f\"{directory}/train_history_dict_{i}\", 'rb') as f:\n",
    "        # with open(f\"{directory}/history_dict_{fold}\", 'rb') as f:\n",
    "            history = pickle.load(f)\n",
    "            ax[0].plot(history[\"accuracy\"], label=\"training accuracy\")\n",
    "            ax[0].set_ylim(0.6, 1.0)\n",
    "            ax[0].set_title(\"Training accuracy\")\n",
    "            ax[1].plot(history[\"val_accuracy\"], label=\"validation accuracy\")\n",
    "            ax[1].set_title(\"Validation accuracy\")\n",
    "            ax[2].plot(history[\"loss\"], label=\"training accuracy\")\n",
    "            ax[2].set_ylim(0.0, 1.0)\n",
    "            ax[2].set_title(\"Training loss\")\n",
    "            ax[3].plot(history[\"val_loss\"], label=\"validation accuracy\")\n",
    "            ax[3].set_title(\"Validation loss\")\n",
    "    except:\n",
    "        pass\n",
    "#plt.legend(loc=\"upper left\")\n",
    "for a in ax:\n",
    "    a.grid(visible=True)\n",
    "\n",
    "fig.tight_layout()\n",
    "plt.show()"
   ]
  },
  {
   "cell_type": "code",
   "execution_count": null,
   "metadata": {},
   "outputs": [],
   "source": [
    "plt.plot(history[\"accuracy\"], label=\"training accuracy\")\n",
    "plt.plot(history[\"val_accuracy\"], label=\"validation accuracy\")\n",
    "plt.legend(loc=\"upper left\")\n",
    "plt.show()"
   ]
  },
  {
   "cell_type": "code",
   "execution_count": null,
   "metadata": {},
   "outputs": [],
   "source": [
    "plt.plot(history[\"loss\"], label=\"training loss\")\n",
    "plt.plot(history[\"val_loss\"], label=\"validation loss\")\n",
    "plt.legend(loc=\"upper left\")\n",
    "plt.show()"
   ]
  },
  {
   "cell_type": "code",
   "execution_count": null,
   "metadata": {},
   "outputs": [],
   "source": [
    "from cardiac_rythm.models import CNN, CNNConfig\n",
    "\n",
    "\n",
    "saved_model = f\"{directory}/checkpoint\"\n",
    "saved_model = f\"{directory}/checkpoint_{fold}\"\n",
    "\n",
    "with open(f\"{directory}/model_config.json\", \"rt\") as f:\n",
    "    model_config = CNNConfig.from_json(f.read())\n",
    "model = CNN(model_config)\n",
    "model.load_weights(saved_model)\n",
    "prediction = np.argmax(model.predict(x_test), axis=1)"
   ]
  },
  {
   "cell_type": "code",
   "execution_count": null,
   "metadata": {},
   "outputs": [],
   "source": [
    "from sklearn.metrics import confusion_matrix, balanced_accuracy_score\n",
    "import seaborn as sns\n",
    "\n",
    "conf_matrix = confusion_matrix(y_test, prediction)\n",
    "norm = conf_matrix.astype(\"float\") / conf_matrix.sum(axis=1)[:, np.newaxis]\n",
    "bac = balanced_accuracy_score(y_test, prediction)\n",
    "\n",
    "f, ax = plt.subplots(figsize=(4, 4))\n",
    "sns.heatmap(norm, annot=True, linewidths=0.01, cmap=\"Oranges\", linecolor=\"gray\")\n",
    "ax.xaxis.set_ticklabels([\"AS\", \"PEA\", \"PR\", \"VF\", \"VT\"])\n",
    "ax.yaxis.set_ticklabels([\"AS\", \"PEA\", \"PR\", \"VF\", \"VT\"])\n",
    "plt.xlabel(\"Predicted Label\")\n",
    "plt.ylabel(\"True Label\")\n",
    "plt.title(\"Confusion Matrix\")\n",
    "plt.show()"
   ]
  },
  {
   "cell_type": "code",
   "execution_count": null,
   "metadata": {},
   "outputs": [],
   "source": [
    "accuracy = conf_matrix.diagonal().sum()/conf_matrix.sum()\n",
    "precision = conf_matrix.diagonal()/conf_matrix.sum(axis=0)\n",
    "recall = conf_matrix.diagonal()/conf_matrix.sum(axis=1)"
   ]
  },
  {
   "cell_type": "code",
   "execution_count": null,
   "metadata": {},
   "outputs": [],
   "source": [
    "accuracy"
   ]
  },
  {
   "cell_type": "code",
   "execution_count": null,
   "metadata": {},
   "outputs": [],
   "source": [
    "bac"
   ]
  }
 ],
 "metadata": {
  "kernelspec": {
   "display_name": ".venv",
   "language": "python",
   "name": "python3"
  },
  "language_info": {
   "codemirror_mode": {
    "name": "ipython",
    "version": 3
   },
   "file_extension": ".py",
   "mimetype": "text/x-python",
   "name": "python",
   "nbconvert_exporter": "python",
   "pygments_lexer": "ipython3",
   "version": "3.11.6"
  }
 },
 "nbformat": 4,
 "nbformat_minor": 2
}
